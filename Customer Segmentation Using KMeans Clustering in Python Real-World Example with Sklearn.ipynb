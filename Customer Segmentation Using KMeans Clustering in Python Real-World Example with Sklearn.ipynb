{
 "cells": [
  {
   "cell_type": "markdown",
   "id": "1b19173f",
   "metadata": {},
   "source": [
    "# Step 1: Import libarary and classes"
   ]
  },
  {
   "cell_type": "code",
   "execution_count": 1,
   "id": "3d79db31",
   "metadata": {},
   "outputs": [
    {
     "name": "stderr",
     "output_type": "stream",
     "text": [
      "C:\\Users\\naimat\\anaconda3\\lib\\site-packages\\pandas\\core\\arrays\\masked.py:60: UserWarning: Pandas requires version '1.3.6' or newer of 'bottleneck' (version '1.3.4' currently installed).\n",
      "  from pandas.core import (\n"
     ]
    }
   ],
   "source": [
    "import pandas as pd\n",
    "import numpy as np\n",
    "from sklearn.cluster import KMeans\n",
    "from sklearn.metrics import silhouette_score, adjusted_rand_score\n",
    "import matplotlib.pyplot as plt"
   ]
  },
  {
   "cell_type": "markdown",
   "id": "3a737582",
   "metadata": {},
   "source": [
    "# Step 1: Create a dataset with 100 customers and 5 columns"
   ]
  },
  {
   "cell_type": "code",
   "execution_count": 2,
   "id": "faaa9387",
   "metadata": {},
   "outputs": [
    {
     "data": {
      "text/html": [
       "<div>\n",
       "<style scoped>\n",
       "    .dataframe tbody tr th:only-of-type {\n",
       "        vertical-align: middle;\n",
       "    }\n",
       "\n",
       "    .dataframe tbody tr th {\n",
       "        vertical-align: top;\n",
       "    }\n",
       "\n",
       "    .dataframe thead th {\n",
       "        text-align: right;\n",
       "    }\n",
       "</style>\n",
       "<table border=\"1\" class=\"dataframe\">\n",
       "  <thead>\n",
       "    <tr style=\"text-align: right;\">\n",
       "      <th></th>\n",
       "      <th>CustomerID</th>\n",
       "      <th>Age</th>\n",
       "      <th>Average_Spend</th>\n",
       "      <th>Visits_per_Week</th>\n",
       "      <th>Promotion_Interest</th>\n",
       "    </tr>\n",
       "  </thead>\n",
       "  <tbody>\n",
       "    <tr>\n",
       "      <th>0</th>\n",
       "      <td>1</td>\n",
       "      <td>56</td>\n",
       "      <td>18.206968</td>\n",
       "      <td>5.266897</td>\n",
       "      <td>2</td>\n",
       "    </tr>\n",
       "    <tr>\n",
       "      <th>1</th>\n",
       "      <td>2</td>\n",
       "      <td>46</td>\n",
       "      <td>5.633592</td>\n",
       "      <td>5.857006</td>\n",
       "      <td>9</td>\n",
       "    </tr>\n",
       "    <tr>\n",
       "      <th>2</th>\n",
       "      <td>3</td>\n",
       "      <td>32</td>\n",
       "      <td>13.947908</td>\n",
       "      <td>3.091996</td>\n",
       "      <td>8</td>\n",
       "    </tr>\n",
       "    <tr>\n",
       "      <th>3</th>\n",
       "      <td>4</td>\n",
       "      <td>60</td>\n",
       "      <td>37.010388</td>\n",
       "      <td>1.577059</td>\n",
       "      <td>10</td>\n",
       "    </tr>\n",
       "    <tr>\n",
       "      <th>4</th>\n",
       "      <td>5</td>\n",
       "      <td>25</td>\n",
       "      <td>40.557899</td>\n",
       "      <td>6.643140</td>\n",
       "      <td>7</td>\n",
       "    </tr>\n",
       "  </tbody>\n",
       "</table>\n",
       "</div>"
      ],
      "text/plain": [
       "   CustomerID  Age  Average_Spend  Visits_per_Week  Promotion_Interest\n",
       "0           1   56      18.206968         5.266897                   2\n",
       "1           2   46       5.633592         5.857006                   9\n",
       "2           3   32      13.947908         3.091996                   8\n",
       "3           4   60      37.010388         1.577059                  10\n",
       "4           5   25      40.557899         6.643140                   7"
      ]
     },
     "execution_count": 2,
     "metadata": {},
     "output_type": "execute_result"
    }
   ],
   "source": [
    "np.random.seed(42)\n",
    "data = {\n",
    "    'CustomerID': np.arange(1, 101),\n",
    "    'Age': np.random.randint(18, 65, size=100),\n",
    "    'Average_Spend': np.random.uniform(5, 50, size=100),\n",
    "    'Visits_per_Week': np.random.uniform(1, 7, size=100),\n",
    "    'Promotion_Interest': np.random.randint(1, 11, size=100)\n",
    "}\n",
    "\n",
    "# Convert to a DataFrame\n",
    "df = pd.DataFrame(data)\n",
    "df.head()"
   ]
  },
  {
   "cell_type": "markdown",
   "id": "2dea0715",
   "metadata": {},
   "source": [
    "# Step 3: Apply KMeans clustering to segment customers into 3 groups"
   ]
  },
  {
   "cell_type": "markdown",
   "id": "fe6cf738",
   "metadata": {},
   "source": [
    "# Find Cluster Number"
   ]
  },
  {
   "cell_type": "code",
   "execution_count": 3,
   "id": "d05f9cac",
   "metadata": {},
   "outputs": [
    {
     "name": "stderr",
     "output_type": "stream",
     "text": [
      "C:\\Users\\naimat\\anaconda3\\lib\\site-packages\\sklearn\\cluster\\_kmeans.py:1416: FutureWarning: The default value of `n_init` will change from 10 to 'auto' in 1.4. Set the value of `n_init` explicitly to suppress the warning\n",
      "  super()._check_params_vs_input(X, default_n_init=10)\n",
      "C:\\Users\\naimat\\anaconda3\\lib\\site-packages\\sklearn\\cluster\\_kmeans.py:1416: FutureWarning: The default value of `n_init` will change from 10 to 'auto' in 1.4. Set the value of `n_init` explicitly to suppress the warning\n",
      "  super()._check_params_vs_input(X, default_n_init=10)\n",
      "C:\\Users\\naimat\\anaconda3\\lib\\site-packages\\sklearn\\cluster\\_kmeans.py:1416: FutureWarning: The default value of `n_init` will change from 10 to 'auto' in 1.4. Set the value of `n_init` explicitly to suppress the warning\n",
      "  super()._check_params_vs_input(X, default_n_init=10)\n",
      "C:\\Users\\naimat\\anaconda3\\lib\\site-packages\\sklearn\\cluster\\_kmeans.py:1416: FutureWarning: The default value of `n_init` will change from 10 to 'auto' in 1.4. Set the value of `n_init` explicitly to suppress the warning\n",
      "  super()._check_params_vs_input(X, default_n_init=10)\n",
      "C:\\Users\\naimat\\anaconda3\\lib\\site-packages\\sklearn\\cluster\\_kmeans.py:1416: FutureWarning: The default value of `n_init` will change from 10 to 'auto' in 1.4. Set the value of `n_init` explicitly to suppress the warning\n",
      "  super()._check_params_vs_input(X, default_n_init=10)\n",
      "C:\\Users\\naimat\\anaconda3\\lib\\site-packages\\sklearn\\cluster\\_kmeans.py:1416: FutureWarning: The default value of `n_init` will change from 10 to 'auto' in 1.4. Set the value of `n_init` explicitly to suppress the warning\n",
      "  super()._check_params_vs_input(X, default_n_init=10)\n",
      "C:\\Users\\naimat\\anaconda3\\lib\\site-packages\\sklearn\\cluster\\_kmeans.py:1416: FutureWarning: The default value of `n_init` will change from 10 to 'auto' in 1.4. Set the value of `n_init` explicitly to suppress the warning\n",
      "  super()._check_params_vs_input(X, default_n_init=10)\n",
      "C:\\Users\\naimat\\anaconda3\\lib\\site-packages\\sklearn\\cluster\\_kmeans.py:1416: FutureWarning: The default value of `n_init` will change from 10 to 'auto' in 1.4. Set the value of `n_init` explicitly to suppress the warning\n",
      "  super()._check_params_vs_input(X, default_n_init=10)\n",
      "C:\\Users\\naimat\\anaconda3\\lib\\site-packages\\sklearn\\cluster\\_kmeans.py:1416: FutureWarning: The default value of `n_init` will change from 10 to 'auto' in 1.4. Set the value of `n_init` explicitly to suppress the warning\n",
      "  super()._check_params_vs_input(X, default_n_init=10)\n",
      "C:\\Users\\naimat\\anaconda3\\lib\\site-packages\\sklearn\\cluster\\_kmeans.py:1416: FutureWarning: The default value of `n_init` will change from 10 to 'auto' in 1.4. Set the value of `n_init` explicitly to suppress the warning\n",
      "  super()._check_params_vs_input(X, default_n_init=10)\n"
     ]
    },
    {
     "data": {
      "image/png": "[encoded data removed]",
      "text/plain": [
       "<Figure size 432x288 with 1 Axes>"
      ]
     },
     "metadata": {
      "needs_background": "light"
     },
     "output_type": "display_data"
    }
   ],
   "source": [
    "import matplotlib.pyplot as plt\n",
    "from sklearn.cluster import KMeans\n",
    "\n",
    "# Prepare the data for clustering\n",
    "X = df[['Age', 'Average_Spend', 'Visits_per_Week', 'Promotion_Interest']]\n",
    "\n",
    "# Elbow method to find optimal number of clusters\n",
    "sse = []\n",
    "k_range = range(1, 11)  # Change this to range from 1 to 10\n",
    "\n",
    "for k in k_range:\n",
    "    kmeans = KMeans(n_clusters=k, random_state=42)\n",
    "    kmeans.fit(X)\n",
    "    sse.append(kmeans.inertia_)\n",
    "\n",
    "# Plot the elbow curve\n",
    "plt.plot(k_range, sse, marker='o')\n",
    "plt.xlabel('Number of Clusters')\n",
    "plt.ylabel('Sum of Squared Distances (SSE)')\n",
    "plt.title('Elbow Method For Optimal K')\n",
    "plt.show()\n"
   ]
  },
  {
   "cell_type": "code",
   "execution_count": 4,
   "id": "7d9afa1c",
   "metadata": {},
   "outputs": [
    {
     "name": "stderr",
     "output_type": "stream",
     "text": [
      "C:\\Users\\naimat\\anaconda3\\lib\\site-packages\\sklearn\\cluster\\_kmeans.py:1416: FutureWarning: The default value of `n_init` will change from 10 to 'auto' in 1.4. Set the value of `n_init` explicitly to suppress the warning\n",
      "  super()._check_params_vs_input(X, default_n_init=10)\n"
     ]
    },
    {
     "data": {
      "text/html": [
       "<div>\n",
       "<style scoped>\n",
       "    .dataframe tbody tr th:only-of-type {\n",
       "        vertical-align: middle;\n",
       "    }\n",
       "\n",
       "    .dataframe tbody tr th {\n",
       "        vertical-align: top;\n",
       "    }\n",
       "\n",
       "    .dataframe thead th {\n",
       "        text-align: right;\n",
       "    }\n",
       "</style>\n",
       "<table border=\"1\" class=\"dataframe\">\n",
       "  <thead>\n",
       "    <tr style=\"text-align: right;\">\n",
       "      <th></th>\n",
       "      <th>CustomerID</th>\n",
       "      <th>Age</th>\n",
       "      <th>Average_Spend</th>\n",
       "      <th>Visits_per_Week</th>\n",
       "      <th>Promotion_Interest</th>\n",
       "      <th>Cluster</th>\n",
       "      <th>Customer Group</th>\n",
       "    </tr>\n",
       "  </thead>\n",
       "  <tbody>\n",
       "    <tr>\n",
       "      <th>0</th>\n",
       "      <td>1</td>\n",
       "      <td>56</td>\n",
       "      <td>18.206968</td>\n",
       "      <td>5.266897</td>\n",
       "      <td>2</td>\n",
       "      <td>1</td>\n",
       "      <td>Promotion</td>\n",
       "    </tr>\n",
       "    <tr>\n",
       "      <th>1</th>\n",
       "      <td>2</td>\n",
       "      <td>46</td>\n",
       "      <td>5.633592</td>\n",
       "      <td>5.857006</td>\n",
       "      <td>9</td>\n",
       "      <td>0</td>\n",
       "      <td>Daily</td>\n",
       "    </tr>\n",
       "    <tr>\n",
       "      <th>2</th>\n",
       "      <td>3</td>\n",
       "      <td>32</td>\n",
       "      <td>13.947908</td>\n",
       "      <td>3.091996</td>\n",
       "      <td>8</td>\n",
       "      <td>0</td>\n",
       "      <td>Daily</td>\n",
       "    </tr>\n",
       "    <tr>\n",
       "      <th>3</th>\n",
       "      <td>4</td>\n",
       "      <td>60</td>\n",
       "      <td>37.010388</td>\n",
       "      <td>1.577059</td>\n",
       "      <td>10</td>\n",
       "      <td>1</td>\n",
       "      <td>Promotion</td>\n",
       "    </tr>\n",
       "    <tr>\n",
       "      <th>4</th>\n",
       "      <td>5</td>\n",
       "      <td>25</td>\n",
       "      <td>40.557899</td>\n",
       "      <td>6.643140</td>\n",
       "      <td>7</td>\n",
       "      <td>2</td>\n",
       "      <td>Weekend</td>\n",
       "    </tr>\n",
       "  </tbody>\n",
       "</table>\n",
       "</div>"
      ],
      "text/plain": [
       "   CustomerID  Age  Average_Spend  Visits_per_Week  Promotion_Interest  \\\n",
       "0           1   56      18.206968         5.266897                   2   \n",
       "1           2   46       5.633592         5.857006                   9   \n",
       "2           3   32      13.947908         3.091996                   8   \n",
       "3           4   60      37.010388         1.577059                  10   \n",
       "4           5   25      40.557899         6.643140                   7   \n",
       "\n",
       "   Cluster Customer Group  \n",
       "0        1      Promotion  \n",
       "1        0          Daily  \n",
       "2        0          Daily  \n",
       "3        1      Promotion  \n",
       "4        2        Weekend  "
      ]
     },
     "execution_count": 4,
     "metadata": {},
     "output_type": "execute_result"
    }
   ],
   "source": [
    "# We are clustering based on 'Age', 'Average_Spend', 'Visits_per_Week', and 'Promotion_Interest'\n",
    "features = df[['Age', 'Average_Spend', 'Visits_per_Week', 'Promotion_Interest']]\n",
    "\n",
    "# Initialize KMeans with 3 clusters\n",
    "kmeans = KMeans(n_clusters=3, random_state=42)\n",
    "\n",
    "# Fit the model\n",
    "df['Cluster'] = kmeans.fit_predict(features)\n",
    "\n",
    "# Rename clusters to 'Daily', 'Promotion', 'Weekend'\n",
    "cluster_names = {0: 'Daily', 1: 'Promotion', 2: 'Weekend'}\n",
    "df['Customer Group'] = df['Cluster'].map(cluster_names)\n",
    "\n",
    "df.head()"
   ]
  },
  {
   "cell_type": "markdown",
   "id": "a3f0f4be",
   "metadata": {},
   "source": [
    "# Step 4: Visualize the clusters using Age and Average Spend (2D Plot)\n"
   ]
  },
  {
   "cell_type": "code",
   "execution_count": 5,
   "id": "6528e88a",
   "metadata": {},
   "outputs": [
    {
     "data": {
      "image/png": "[encoded data removed]",
      "text/plain": [
       "<Figure size 432x288 with 2 Axes>"
      ]
     },
     "metadata": {
      "needs_background": "light"
     },
     "output_type": "display_data"
    }
   ],
   "source": [
    "plt.scatter(df['Age'], df['Average_Spend'], c=df['Cluster'], cmap='viridis', marker='o', s=100, alpha=0.6)\n",
    "plt.xlabel('Age')\n",
    "plt.ylabel('Average Spend')\n",
    "plt.title('Customer Clusters based on Age and Average Spend')\n",
    "plt.colorbar(label='Cluster')\n",
    "plt.show()"
   ]
  },
  {
   "cell_type": "markdown",
   "id": "6c158cb8",
   "metadata": {},
   "source": [
    "# Step 5: Evaluate the clustering performance"
   ]
  },
  {
   "cell_type": "code",
   "execution_count": 6,
   "id": "a69d9be8",
   "metadata": {},
   "outputs": [
    {
     "name": "stdout",
     "output_type": "stream",
     "text": [
      "Silhouette Score: 0.39\n"
     ]
    }
   ],
   "source": [
    "# Using silhouette score (measures how similar a point is to its own cluster compared to other clusters)\n",
    "silhouette_avg = silhouette_score(features, df['Cluster'])\n",
    "print(f'Silhouette Score: {silhouette_avg:.2f}')"
   ]
  },
  {
   "cell_type": "markdown",
   "id": "26dce723",
   "metadata": {},
   "source": [
    "# Step 5.1: Save Kmeans For Future Inference"
   ]
  },
  {
   "cell_type": "code",
   "execution_count": 7,
   "id": "b4a24423",
   "metadata": {},
   "outputs": [],
   "source": [
    "import pickle\n",
    "\n",
    "pickle.dump(kmeans,open(\"kmeans.pkl\",'wb'))"
   ]
  },
  {
   "cell_type": "code",
   "execution_count": 8,
   "id": "082532da",
   "metadata": {},
   "outputs": [],
   "source": [
    "kmeans = pickle.load(open(\"kmeans.pkl\",'rb'))"
   ]
  },
  {
   "cell_type": "markdown",
   "id": "def65aee",
   "metadata": {},
   "source": [
    "# Step 6: Predict the cluster of a new customer\n"
   ]
  },
  {
   "cell_type": "code",
   "execution_count": 9,
   "id": "a568b4f0",
   "metadata": {},
   "outputs": [],
   "source": [
    "# For a new customer with Age=40, Average_Spend=$30, Visits_per_Week=4, Promotion_Interest=7\n",
    "\n",
    "def clustering(age,avg_spend,visit_per_week, promotion_interest):\n",
    "    new_customer = np.array([[age,avg_spend,visit_per_week, promotion_interest]])\n",
    "    predicted_cluster = kmeans.predict(new_customer)\n",
    "    \n",
    "    if predicted_cluster[0]==0:\n",
    "        return \"Daily\"\n",
    "    elif predicted_cluster[0]==1:\n",
    "        return \"Weekend\"\n",
    "    else:\n",
    "        return \"Promotion\""
   ]
  },
  {
   "cell_type": "code",
   "execution_count": 10,
   "id": "8fe96a7f",
   "metadata": {},
   "outputs": [
    {
     "name": "stdout",
     "output_type": "stream",
     "text": [
      "New Customer assigned to Cluster: Promotion\n"
     ]
    },
    {
     "name": "stderr",
     "output_type": "stream",
     "text": [
      "C:\\Users\\naimat\\anaconda3\\lib\\site-packages\\sklearn\\base.py:465: UserWarning: X does not have valid feature names, but KMeans was fitted with feature names\n",
      "  warnings.warn(\n"
     ]
    }
   ],
   "source": [
    "# test 1\n",
    "age = 40\n",
    "avg_spend = 30\n",
    "visit_per_week= 4\n",
    "promotion_interest= 7\n",
    "\n",
    "\n",
    "predicted_cluster = clustering(age, avg_spend,visit_per_week,promotion_interest)\n",
    "print(f'New Customer assigned to Cluster: {predicted_cluster}')\n",
    "\n",
    "# Save the generated dataset as CSV\n",
    "df.to_csv('customer_clusters.csv', index=False)"
   ]
  },
  {
   "cell_type": "code",
   "execution_count": 11,
   "id": "9f151372",
   "metadata": {},
   "outputs": [
    {
     "name": "stdout",
     "output_type": "stream",
     "text": [
      "New Customer assigned to Cluster: Daily\n"
     ]
    },
    {
     "name": "stderr",
     "output_type": "stream",
     "text": [
      "C:\\Users\\naimat\\anaconda3\\lib\\site-packages\\sklearn\\base.py:465: UserWarning: X does not have valid feature names, but KMeans was fitted with feature names\n",
      "  warnings.warn(\n"
     ]
    }
   ],
   "source": [
    "# test 2\n",
    "age = 40\n",
    "avg_spend = 10\n",
    "visit_per_week= 1\n",
    "promotion_interest= 0\n",
    "\n",
    "\n",
    "predicted_cluster = clustering(age, avg_spend,visit_per_week,promotion_interest)\n",
    "print(f'New Customer assigned to Cluster: {predicted_cluster}')\n",
    "\n",
    "# Save the generated dataset as CSV\n",
    "df.to_csv('customer_clusters.csv', index=False)"
   ]
  },
  {
   "cell_type": "code",
   "execution_count": null,
   "id": "d86fae46",
   "metadata": {},
   "outputs": [],
   "source": []
  },
  {
   "cell_type": "code",
   "execution_count": null,
   "id": "57f92d40",
   "metadata": {},
   "outputs": [],
   "source": []
  }
 ],
 "metadata": {
  "kernelspec": {
   "display_name": "Python 3 (ipykernel)",
   "language": "python",
   "name": "python3"
  },
  "language_info": {
   "codemirror_mode": {
    "name": "ipython",
    "version": 3
   },
   "file_extension": ".py",
   "mimetype": "text/x-python",
   "name": "python",
   "nbconvert_exporter": "python",
   "pygments_lexer": "ipython3",
   "version": "3.9.12"
  }
 },
 "nbformat": 4,
 "nbformat_minor": 5
}
